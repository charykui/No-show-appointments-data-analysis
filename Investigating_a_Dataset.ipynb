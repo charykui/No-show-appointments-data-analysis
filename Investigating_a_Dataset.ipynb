{
 "cells": [
  {
   "cell_type": "markdown",
   "id": "d37750a9",
   "metadata": {},
   "source": [
    "\n",
    "# Project: Investigate a Dataset - No Show Appointments\n",
    "\n",
    "## Table of Contents\n",
    "<ul>\n",
    "<li><a href=\"#intro\">Introduction</a></li>\n",
    "<li><a href=\"#wrangling\">Data Wrangling</a></li>\n",
    "<li><a href=\"#eda\">Exploratory Data Analysis</a></li>\n",
    "<li><a href=\"#conclusions\">Conclusions</a></li>\n",
    "</ul>"
   ]
  },
  {
   "cell_type": "markdown",
   "id": "56f818d9",
   "metadata": {},
   "source": [
    "<a id='intro'></a>\n",
    "## Introduction\n",
    "\n",
    "### Dataset Description \n",
    "\n",
    "\n",
    "> This is a dataset of information collected\n",
    "from 100k medical appointments in\n",
    "Brazil.The dataset shows if the patient showed up for an scheduled appointment or not.The attributes of this data set are as follows. \n",
    "\n",
    "|Name            |   Description                                                                                              |\n",
    "|:---------------|:------------|\n",
    "|Patient         | Indicates the patient identification                                                                       |\n",
    "|AppointmentID   | Identifies the appointment                                                                                 |\n",
    "|Gender          | The gender of the patient. Either \"F\" for Female or \"M\" for male                                           |\n",
    "|ScheduledDay    | Shows the day the patient set up their appointment                                                         | \n",
    "|AppointmentDay  | The day of the actual appointment                                                                          |\n",
    "|Age             | Shows the age of the patient                                                                               |\n",
    "|Neighbourhood   | Shows the location of the hospital\n",
    "|Scholarship     | Indicates whether or not the patient is enrolled in Brasilian welfare program.This is Represented by 0and 1|\n",
    "|Hypertension    | Shows patient with Hypertension. Represented by 1 or 0\n",
    "|Diabetes        | Shows patient who is Diabetic. Represented by 1 or 0\n",
    "|Alcoholism      | Shows patient who is an alcoholic. Represented by 1 or 0\n",
    "|Handcap         | Shows patient who is handicapped. Represented by 1 or 0\n",
    "|SMS_received    | Shows if patient recieved messages or not\n",
    "|No-show         | Shows ‘No’ if the patient showed up to their appointment, and ‘Yes’ if they did not show up.\n",
    "\n",
    "\n",
    "\n",
    "\n",
    "### Question(s) for Analysis\n",
    "\n",
    "> The purpose of this dataset analysis is to answer the following questions\n",
    "\n",
    "><ol>\n",
    " <li>What is the comparison between of patient's age to the appointments attendances. </li>\n",
    " <li>What is the percentage of patients who did not show up for appointments.</li>\n",
    " <li>How is the appointment attendace distributed in terms of gender. </li>\n",
    "></ol>"
   ]
  },
  {
   "cell_type": "code",
   "execution_count": 4,
   "id": "d353cc7b",
   "metadata": {},
   "outputs": [],
   "source": [
    "# Importing packages\n",
    "import pandas as pd\n",
    "import numpy as np\n",
    "import matplotlib.pyplot as plt\n",
    "%matplotlib inline\n",
    "import seaborn as sns"
   ]
  },
  {
   "cell_type": "markdown",
   "id": "835f0d22",
   "metadata": {},
   "source": [
    "<a id='wrangling'></a>\n",
    "## Data Wrangling\n",
    "> Performed data loading,assessment and cleanliness of data in readiness for data analysis in this section.\n",
    "\n",
    "\n",
    "### General Properties"
   ]
  },
  {
   "cell_type": "code",
   "execution_count": 5,
   "id": "7fb6529d",
   "metadata": {},
   "outputs": [
    {
     "data": {
      "text/html": [
       "<div>\n",
       "<style scoped>\n",
       "    .dataframe tbody tr th:only-of-type {\n",
       "        vertical-align: middle;\n",
       "    }\n",
       "\n",
       "    .dataframe tbody tr th {\n",
       "        vertical-align: top;\n",
       "    }\n",
       "\n",
       "    .dataframe thead th {\n",
       "        text-align: right;\n",
       "    }\n",
       "</style>\n",
       "<table border=\"1\" class=\"dataframe\">\n",
       "  <thead>\n",
       "    <tr style=\"text-align: right;\">\n",
       "      <th></th>\n",
       "      <th>PatientId</th>\n",
       "      <th>AppointmentID</th>\n",
       "      <th>Gender</th>\n",
       "      <th>ScheduledDay</th>\n",
       "      <th>AppointmentDay</th>\n",
       "      <th>Age</th>\n",
       "      <th>Neighbourhood</th>\n",
       "      <th>Scholarship</th>\n",
       "      <th>Hipertension</th>\n",
       "      <th>Diabetes</th>\n",
       "      <th>Alcoholism</th>\n",
       "      <th>Handcap</th>\n",
       "      <th>SMS_received</th>\n",
       "      <th>No-show</th>\n",
       "    </tr>\n",
       "  </thead>\n",
       "  <tbody>\n",
       "    <tr>\n",
       "      <th>0</th>\n",
       "      <td>2.987250e+13</td>\n",
       "      <td>5642903</td>\n",
       "      <td>F</td>\n",
       "      <td>2016-04-29T18:38:08Z</td>\n",
       "      <td>2016-04-29T00:00:00Z</td>\n",
       "      <td>62</td>\n",
       "      <td>JARDIM DA PENHA</td>\n",
       "      <td>0</td>\n",
       "      <td>1</td>\n",
       "      <td>0</td>\n",
       "      <td>0</td>\n",
       "      <td>0</td>\n",
       "      <td>0</td>\n",
       "      <td>No</td>\n",
       "    </tr>\n",
       "    <tr>\n",
       "      <th>1</th>\n",
       "      <td>5.589978e+14</td>\n",
       "      <td>5642503</td>\n",
       "      <td>M</td>\n",
       "      <td>2016-04-29T16:08:27Z</td>\n",
       "      <td>2016-04-29T00:00:00Z</td>\n",
       "      <td>56</td>\n",
       "      <td>JARDIM DA PENHA</td>\n",
       "      <td>0</td>\n",
       "      <td>0</td>\n",
       "      <td>0</td>\n",
       "      <td>0</td>\n",
       "      <td>0</td>\n",
       "      <td>0</td>\n",
       "      <td>No</td>\n",
       "    </tr>\n",
       "    <tr>\n",
       "      <th>2</th>\n",
       "      <td>4.262962e+12</td>\n",
       "      <td>5642549</td>\n",
       "      <td>F</td>\n",
       "      <td>2016-04-29T16:19:04Z</td>\n",
       "      <td>2016-04-29T00:00:00Z</td>\n",
       "      <td>62</td>\n",
       "      <td>MATA DA PRAIA</td>\n",
       "      <td>0</td>\n",
       "      <td>0</td>\n",
       "      <td>0</td>\n",
       "      <td>0</td>\n",
       "      <td>0</td>\n",
       "      <td>0</td>\n",
       "      <td>No</td>\n",
       "    </tr>\n",
       "    <tr>\n",
       "      <th>3</th>\n",
       "      <td>8.679512e+11</td>\n",
       "      <td>5642828</td>\n",
       "      <td>F</td>\n",
       "      <td>2016-04-29T17:29:31Z</td>\n",
       "      <td>2016-04-29T00:00:00Z</td>\n",
       "      <td>8</td>\n",
       "      <td>PONTAL DE CAMBURI</td>\n",
       "      <td>0</td>\n",
       "      <td>0</td>\n",
       "      <td>0</td>\n",
       "      <td>0</td>\n",
       "      <td>0</td>\n",
       "      <td>0</td>\n",
       "      <td>No</td>\n",
       "    </tr>\n",
       "    <tr>\n",
       "      <th>4</th>\n",
       "      <td>8.841186e+12</td>\n",
       "      <td>5642494</td>\n",
       "      <td>F</td>\n",
       "      <td>2016-04-29T16:07:23Z</td>\n",
       "      <td>2016-04-29T00:00:00Z</td>\n",
       "      <td>56</td>\n",
       "      <td>JARDIM DA PENHA</td>\n",
       "      <td>0</td>\n",
       "      <td>1</td>\n",
       "      <td>1</td>\n",
       "      <td>0</td>\n",
       "      <td>0</td>\n",
       "      <td>0</td>\n",
       "      <td>No</td>\n",
       "    </tr>\n",
       "  </tbody>\n",
       "</table>\n",
       "</div>"
      ],
      "text/plain": [
       "      PatientId  AppointmentID Gender          ScheduledDay  \\\n",
       "0  2.987250e+13        5642903      F  2016-04-29T18:38:08Z   \n",
       "1  5.589978e+14        5642503      M  2016-04-29T16:08:27Z   \n",
       "2  4.262962e+12        5642549      F  2016-04-29T16:19:04Z   \n",
       "3  8.679512e+11        5642828      F  2016-04-29T17:29:31Z   \n",
       "4  8.841186e+12        5642494      F  2016-04-29T16:07:23Z   \n",
       "\n",
       "         AppointmentDay  Age      Neighbourhood  Scholarship  Hipertension  \\\n",
       "0  2016-04-29T00:00:00Z   62    JARDIM DA PENHA            0             1   \n",
       "1  2016-04-29T00:00:00Z   56    JARDIM DA PENHA            0             0   \n",
       "2  2016-04-29T00:00:00Z   62      MATA DA PRAIA            0             0   \n",
       "3  2016-04-29T00:00:00Z    8  PONTAL DE CAMBURI            0             0   \n",
       "4  2016-04-29T00:00:00Z   56    JARDIM DA PENHA            0             1   \n",
       "\n",
       "   Diabetes  Alcoholism  Handcap  SMS_received No-show  \n",
       "0         0           0        0             0      No  \n",
       "1         0           0        0             0      No  \n",
       "2         0           0        0             0      No  \n",
       "3         0           0        0             0      No  \n",
       "4         1           0        0             0      No  "
      ]
     },
     "execution_count": 5,
     "metadata": {},
     "output_type": "execute_result"
    }
   ],
   "source": [
    "# Loading data from csv file\n",
    "df_noshow = pd.read_csv('noshow.csv')\n",
    "\n",
    "#Diplaying the first 5 rows of dataset\n",
    "df_noshow.head()"
   ]
  },
  {
   "cell_type": "code",
   "execution_count": 3,
   "id": "824a6ae9",
   "metadata": {},
   "outputs": [
    {
     "data": {
      "text/plain": [
       "(110527, 14)"
      ]
     },
     "execution_count": 3,
     "metadata": {},
     "output_type": "execute_result"
    }
   ],
   "source": [
    "#Total no of rows and columns\n",
    "df_noshow.shape"
   ]
  },
  {
   "cell_type": "markdown",
   "id": "d0687d46",
   "metadata": {},
   "source": [
    "*110527 rows and 14 columns*"
   ]
  },
  {
   "cell_type": "code",
   "execution_count": 4,
   "id": "aae4875b",
   "metadata": {},
   "outputs": [
    {
     "name": "stdout",
     "output_type": "stream",
     "text": [
      "<class 'pandas.core.frame.DataFrame'>\n",
      "RangeIndex: 110527 entries, 0 to 110526\n",
      "Data columns (total 14 columns):\n",
      " #   Column          Non-Null Count   Dtype  \n",
      "---  ------          --------------   -----  \n",
      " 0   PatientId       110527 non-null  float64\n",
      " 1   AppointmentID   110527 non-null  int64  \n",
      " 2   Gender          110527 non-null  object \n",
      " 3   ScheduledDay    110527 non-null  object \n",
      " 4   AppointmentDay  110527 non-null  object \n",
      " 5   Age             110527 non-null  int64  \n",
      " 6   Neighbourhood   110527 non-null  object \n",
      " 7   Scholarship     110527 non-null  int64  \n",
      " 8   Hipertension    110527 non-null  int64  \n",
      " 9   Diabetes        110527 non-null  int64  \n",
      " 10  Alcoholism      110527 non-null  int64  \n",
      " 11  Handcap         110527 non-null  int64  \n",
      " 12  SMS_received    110527 non-null  int64  \n",
      " 13  No-show         110527 non-null  object \n",
      "dtypes: float64(1), int64(8), object(5)\n",
      "memory usage: 11.8+ MB\n"
     ]
    }
   ],
   "source": [
    "#checking for missing values\n",
    "df_noshow.info()"
   ]
  },
  {
   "cell_type": "markdown",
   "id": "c9b770d3",
   "metadata": {},
   "source": [
    "*There are no missing values since non-null entries in every column is equal to the total no of rows*"
   ]
  },
  {
   "cell_type": "code",
   "execution_count": 6,
   "id": "807627a1",
   "metadata": {},
   "outputs": [
    {
     "data": {
      "text/plain": [
       "0"
      ]
     },
     "execution_count": 6,
     "metadata": {},
     "output_type": "execute_result"
    }
   ],
   "source": [
    "#Finding duplicte rows\n",
    "df_noshow.duplicated().sum()"
   ]
  },
  {
   "cell_type": "markdown",
   "id": "d09411db",
   "metadata": {},
   "source": [
    "*The result show no duplicate rows in this dataset*"
   ]
  },
  {
   "cell_type": "code",
   "execution_count": 7,
   "id": "540fadc4",
   "metadata": {},
   "outputs": [
    {
     "data": {
      "text/plain": [
       "48228"
      ]
     },
     "execution_count": 7,
     "metadata": {},
     "output_type": "execute_result"
    }
   ],
   "source": [
    "# No of duplicated ids\n",
    "df_noshow['PatientId'].duplicated().sum()"
   ]
  },
  {
   "cell_type": "markdown",
   "id": "4703359b",
   "metadata": {},
   "source": [
    "*There are 48228 duplicate ids in the patient ID column of this data set*"
   ]
  },
  {
   "cell_type": "code",
   "execution_count": 8,
   "id": "a413abb1",
   "metadata": {},
   "outputs": [
    {
     "data": {
      "text/plain": [
       "38710"
      ]
     },
     "execution_count": 8,
     "metadata": {},
     "output_type": "execute_result"
    }
   ],
   "source": [
    "#How many same patients did not show up\n",
    "df_noshow.duplicated(['PatientId','No-show']).sum()"
   ]
  },
  {
   "cell_type": "markdown",
   "id": "04e58ba8",
   "metadata": {},
   "source": [
    "*There are 38710 duplicates with same id and same no-show status*"
   ]
  },
  {
   "cell_type": "code",
   "execution_count": 9,
   "id": "7e578ad2",
   "metadata": {},
   "outputs": [
    {
     "data": {
      "text/plain": [
       "PatientId         float64\n",
       "AppointmentID       int64\n",
       "Gender             object\n",
       "ScheduledDay       object\n",
       "AppointmentDay     object\n",
       "Age                 int64\n",
       "Neighbourhood      object\n",
       "Scholarship         int64\n",
       "Hipertension        int64\n",
       "Diabetes            int64\n",
       "Alcoholism          int64\n",
       "Handcap             int64\n",
       "SMS_received        int64\n",
       "No-show            object\n",
       "dtype: object"
      ]
     },
     "execution_count": 9,
     "metadata": {},
     "output_type": "execute_result"
    }
   ],
   "source": [
    "#finding any incorrect data type\n",
    "df_noshow.dtypes"
   ]
  },
  {
   "cell_type": "markdown",
   "id": "792999df",
   "metadata": {},
   "source": [
    "*The ScheduledDay and AppointmentDay takes string data type instead of datetime*\n"
   ]
  },
  {
   "cell_type": "code",
   "execution_count": 10,
   "id": "fd4a90de",
   "metadata": {},
   "outputs": [
    {
     "data": {
      "text/html": [
       "<div>\n",
       "<style scoped>\n",
       "    .dataframe tbody tr th:only-of-type {\n",
       "        vertical-align: middle;\n",
       "    }\n",
       "\n",
       "    .dataframe tbody tr th {\n",
       "        vertical-align: top;\n",
       "    }\n",
       "\n",
       "    .dataframe thead th {\n",
       "        text-align: right;\n",
       "    }\n",
       "</style>\n",
       "<table border=\"1\" class=\"dataframe\">\n",
       "  <thead>\n",
       "    <tr style=\"text-align: right;\">\n",
       "      <th></th>\n",
       "      <th>PatientId</th>\n",
       "      <th>AppointmentID</th>\n",
       "      <th>Age</th>\n",
       "      <th>Scholarship</th>\n",
       "      <th>Hipertension</th>\n",
       "      <th>Diabetes</th>\n",
       "      <th>Alcoholism</th>\n",
       "      <th>Handcap</th>\n",
       "      <th>SMS_received</th>\n",
       "    </tr>\n",
       "  </thead>\n",
       "  <tbody>\n",
       "    <tr>\n",
       "      <th>count</th>\n",
       "      <td>1.105270e+05</td>\n",
       "      <td>1.105270e+05</td>\n",
       "      <td>110527.000000</td>\n",
       "      <td>110527.000000</td>\n",
       "      <td>110527.000000</td>\n",
       "      <td>110527.000000</td>\n",
       "      <td>110527.000000</td>\n",
       "      <td>110527.000000</td>\n",
       "      <td>110527.000000</td>\n",
       "    </tr>\n",
       "    <tr>\n",
       "      <th>mean</th>\n",
       "      <td>1.474963e+14</td>\n",
       "      <td>5.675305e+06</td>\n",
       "      <td>37.088874</td>\n",
       "      <td>0.098266</td>\n",
       "      <td>0.197246</td>\n",
       "      <td>0.071865</td>\n",
       "      <td>0.030400</td>\n",
       "      <td>0.022248</td>\n",
       "      <td>0.321026</td>\n",
       "    </tr>\n",
       "    <tr>\n",
       "      <th>std</th>\n",
       "      <td>2.560949e+14</td>\n",
       "      <td>7.129575e+04</td>\n",
       "      <td>23.110205</td>\n",
       "      <td>0.297675</td>\n",
       "      <td>0.397921</td>\n",
       "      <td>0.258265</td>\n",
       "      <td>0.171686</td>\n",
       "      <td>0.161543</td>\n",
       "      <td>0.466873</td>\n",
       "    </tr>\n",
       "    <tr>\n",
       "      <th>min</th>\n",
       "      <td>3.921784e+04</td>\n",
       "      <td>5.030230e+06</td>\n",
       "      <td>-1.000000</td>\n",
       "      <td>0.000000</td>\n",
       "      <td>0.000000</td>\n",
       "      <td>0.000000</td>\n",
       "      <td>0.000000</td>\n",
       "      <td>0.000000</td>\n",
       "      <td>0.000000</td>\n",
       "    </tr>\n",
       "    <tr>\n",
       "      <th>25%</th>\n",
       "      <td>4.172614e+12</td>\n",
       "      <td>5.640286e+06</td>\n",
       "      <td>18.000000</td>\n",
       "      <td>0.000000</td>\n",
       "      <td>0.000000</td>\n",
       "      <td>0.000000</td>\n",
       "      <td>0.000000</td>\n",
       "      <td>0.000000</td>\n",
       "      <td>0.000000</td>\n",
       "    </tr>\n",
       "    <tr>\n",
       "      <th>50%</th>\n",
       "      <td>3.173184e+13</td>\n",
       "      <td>5.680573e+06</td>\n",
       "      <td>37.000000</td>\n",
       "      <td>0.000000</td>\n",
       "      <td>0.000000</td>\n",
       "      <td>0.000000</td>\n",
       "      <td>0.000000</td>\n",
       "      <td>0.000000</td>\n",
       "      <td>0.000000</td>\n",
       "    </tr>\n",
       "    <tr>\n",
       "      <th>75%</th>\n",
       "      <td>9.439172e+13</td>\n",
       "      <td>5.725524e+06</td>\n",
       "      <td>55.000000</td>\n",
       "      <td>0.000000</td>\n",
       "      <td>0.000000</td>\n",
       "      <td>0.000000</td>\n",
       "      <td>0.000000</td>\n",
       "      <td>0.000000</td>\n",
       "      <td>1.000000</td>\n",
       "    </tr>\n",
       "    <tr>\n",
       "      <th>max</th>\n",
       "      <td>9.999816e+14</td>\n",
       "      <td>5.790484e+06</td>\n",
       "      <td>115.000000</td>\n",
       "      <td>1.000000</td>\n",
       "      <td>1.000000</td>\n",
       "      <td>1.000000</td>\n",
       "      <td>1.000000</td>\n",
       "      <td>4.000000</td>\n",
       "      <td>1.000000</td>\n",
       "    </tr>\n",
       "  </tbody>\n",
       "</table>\n",
       "</div>"
      ],
      "text/plain": [
       "          PatientId  AppointmentID            Age    Scholarship  \\\n",
       "count  1.105270e+05   1.105270e+05  110527.000000  110527.000000   \n",
       "mean   1.474963e+14   5.675305e+06      37.088874       0.098266   \n",
       "std    2.560949e+14   7.129575e+04      23.110205       0.297675   \n",
       "min    3.921784e+04   5.030230e+06      -1.000000       0.000000   \n",
       "25%    4.172614e+12   5.640286e+06      18.000000       0.000000   \n",
       "50%    3.173184e+13   5.680573e+06      37.000000       0.000000   \n",
       "75%    9.439172e+13   5.725524e+06      55.000000       0.000000   \n",
       "max    9.999816e+14   5.790484e+06     115.000000       1.000000   \n",
       "\n",
       "        Hipertension       Diabetes     Alcoholism        Handcap  \\\n",
       "count  110527.000000  110527.000000  110527.000000  110527.000000   \n",
       "mean        0.197246       0.071865       0.030400       0.022248   \n",
       "std         0.397921       0.258265       0.171686       0.161543   \n",
       "min         0.000000       0.000000       0.000000       0.000000   \n",
       "25%         0.000000       0.000000       0.000000       0.000000   \n",
       "50%         0.000000       0.000000       0.000000       0.000000   \n",
       "75%         0.000000       0.000000       0.000000       0.000000   \n",
       "max         1.000000       1.000000       1.000000       4.000000   \n",
       "\n",
       "        SMS_received  \n",
       "count  110527.000000  \n",
       "mean        0.321026  \n",
       "std         0.466873  \n",
       "min         0.000000  \n",
       "25%         0.000000  \n",
       "50%         0.000000  \n",
       "75%         1.000000  \n",
       "max         1.000000  "
      ]
     },
     "execution_count": 10,
     "metadata": {},
     "output_type": "execute_result"
    }
   ],
   "source": [
    "df_noshow.describe()"
   ]
  },
  {
   "cell_type": "markdown",
   "id": "bccc5b15",
   "metadata": {},
   "source": [
    "*The minimun age has a negative value meaning a record in dataset has a the negative age value*"
   ]
  },
  {
   "cell_type": "code",
   "execution_count": 11,
   "id": "51f88846",
   "metadata": {},
   "outputs": [
    {
     "data": {
      "text/html": [
       "<div>\n",
       "<style scoped>\n",
       "    .dataframe tbody tr th:only-of-type {\n",
       "        vertical-align: middle;\n",
       "    }\n",
       "\n",
       "    .dataframe tbody tr th {\n",
       "        vertical-align: top;\n",
       "    }\n",
       "\n",
       "    .dataframe thead th {\n",
       "        text-align: right;\n",
       "    }\n",
       "</style>\n",
       "<table border=\"1\" class=\"dataframe\">\n",
       "  <thead>\n",
       "    <tr style=\"text-align: right;\">\n",
       "      <th></th>\n",
       "      <th>PatientId</th>\n",
       "      <th>AppointmentID</th>\n",
       "      <th>Gender</th>\n",
       "      <th>ScheduledDay</th>\n",
       "      <th>AppointmentDay</th>\n",
       "      <th>Age</th>\n",
       "      <th>Neighbourhood</th>\n",
       "      <th>Scholarship</th>\n",
       "      <th>Hipertension</th>\n",
       "      <th>Diabetes</th>\n",
       "      <th>Alcoholism</th>\n",
       "      <th>Handcap</th>\n",
       "      <th>SMS_received</th>\n",
       "      <th>No-show</th>\n",
       "    </tr>\n",
       "  </thead>\n",
       "  <tbody>\n",
       "    <tr>\n",
       "      <th>99832</th>\n",
       "      <td>4.659432e+14</td>\n",
       "      <td>5775010</td>\n",
       "      <td>F</td>\n",
       "      <td>2016-06-06T08:58:13Z</td>\n",
       "      <td>2016-06-06T00:00:00Z</td>\n",
       "      <td>-1</td>\n",
       "      <td>ROMÃO</td>\n",
       "      <td>0</td>\n",
       "      <td>0</td>\n",
       "      <td>0</td>\n",
       "      <td>0</td>\n",
       "      <td>0</td>\n",
       "      <td>0</td>\n",
       "      <td>No</td>\n",
       "    </tr>\n",
       "  </tbody>\n",
       "</table>\n",
       "</div>"
      ],
      "text/plain": [
       "          PatientId  AppointmentID Gender          ScheduledDay  \\\n",
       "99832  4.659432e+14        5775010      F  2016-06-06T08:58:13Z   \n",
       "\n",
       "             AppointmentDay  Age Neighbourhood  Scholarship  Hipertension  \\\n",
       "99832  2016-06-06T00:00:00Z   -1         ROMÃO            0             0   \n",
       "\n",
       "       Diabetes  Alcoholism  Handcap  SMS_received No-show  \n",
       "99832         0           0        0             0      No  "
      ]
     },
     "execution_count": 11,
     "metadata": {},
     "output_type": "execute_result"
    }
   ],
   "source": [
    "# There is a negative age   \n",
    "df_noshow[df_noshow.eq(-1).any(1)]"
   ]
  },
  {
   "cell_type": "markdown",
   "id": "b4e08981",
   "metadata": {},
   "source": [
    "*The above result shows that row index 99832 has the negative value for age, which will be eliminated in the next section to avoid any outliers*"
   ]
  },
  {
   "cell_type": "markdown",
   "id": "e323d8a3",
   "metadata": {},
   "source": [
    "### Data Cleaning\n",
    "> From the assessment above some data would need to be cleaned in order to perform data analysis.The following needs to be addressed\n",
    "\n",
    "> <ul>\n",
    "  <li>Renaming the column names</li>\n",
    "  <li>Removing a negative value in age column</li>\n",
    " <li>Correcting the data type for scheduled_day and appointment_day</li>\n",
    "> </ul>"
   ]
  },
  {
   "cell_type": "code",
   "execution_count": 6,
   "id": "fc51a63c",
   "metadata": {
    "scrolled": true
   },
   "outputs": [
    {
     "data": {
      "text/html": [
       "<div>\n",
       "<style scoped>\n",
       "    .dataframe tbody tr th:only-of-type {\n",
       "        vertical-align: middle;\n",
       "    }\n",
       "\n",
       "    .dataframe tbody tr th {\n",
       "        vertical-align: top;\n",
       "    }\n",
       "\n",
       "    .dataframe thead th {\n",
       "        text-align: right;\n",
       "    }\n",
       "</style>\n",
       "<table border=\"1\" class=\"dataframe\">\n",
       "  <thead>\n",
       "    <tr style=\"text-align: right;\">\n",
       "      <th></th>\n",
       "      <th>patient_id</th>\n",
       "      <th>appointment_id</th>\n",
       "      <th>gender</th>\n",
       "      <th>scheduled_day</th>\n",
       "      <th>appointment_day</th>\n",
       "      <th>age</th>\n",
       "      <th>neighbourhood</th>\n",
       "      <th>scholarship</th>\n",
       "      <th>hypertension</th>\n",
       "      <th>diabetes</th>\n",
       "      <th>alcoholism</th>\n",
       "      <th>handicap</th>\n",
       "      <th>sms_received</th>\n",
       "      <th>no_show</th>\n",
       "    </tr>\n",
       "  </thead>\n",
       "  <tbody>\n",
       "    <tr>\n",
       "      <th>0</th>\n",
       "      <td>2.987250e+13</td>\n",
       "      <td>5642903</td>\n",
       "      <td>F</td>\n",
       "      <td>2016-04-29T18:38:08Z</td>\n",
       "      <td>2016-04-29T00:00:00Z</td>\n",
       "      <td>62</td>\n",
       "      <td>JARDIM DA PENHA</td>\n",
       "      <td>0</td>\n",
       "      <td>1</td>\n",
       "      <td>0</td>\n",
       "      <td>0</td>\n",
       "      <td>0</td>\n",
       "      <td>0</td>\n",
       "      <td>No</td>\n",
       "    </tr>\n",
       "    <tr>\n",
       "      <th>1</th>\n",
       "      <td>5.589978e+14</td>\n",
       "      <td>5642503</td>\n",
       "      <td>M</td>\n",
       "      <td>2016-04-29T16:08:27Z</td>\n",
       "      <td>2016-04-29T00:00:00Z</td>\n",
       "      <td>56</td>\n",
       "      <td>JARDIM DA PENHA</td>\n",
       "      <td>0</td>\n",
       "      <td>0</td>\n",
       "      <td>0</td>\n",
       "      <td>0</td>\n",
       "      <td>0</td>\n",
       "      <td>0</td>\n",
       "      <td>No</td>\n",
       "    </tr>\n",
       "    <tr>\n",
       "      <th>2</th>\n",
       "      <td>4.262962e+12</td>\n",
       "      <td>5642549</td>\n",
       "      <td>F</td>\n",
       "      <td>2016-04-29T16:19:04Z</td>\n",
       "      <td>2016-04-29T00:00:00Z</td>\n",
       "      <td>62</td>\n",
       "      <td>MATA DA PRAIA</td>\n",
       "      <td>0</td>\n",
       "      <td>0</td>\n",
       "      <td>0</td>\n",
       "      <td>0</td>\n",
       "      <td>0</td>\n",
       "      <td>0</td>\n",
       "      <td>No</td>\n",
       "    </tr>\n",
       "    <tr>\n",
       "      <th>3</th>\n",
       "      <td>8.679512e+11</td>\n",
       "      <td>5642828</td>\n",
       "      <td>F</td>\n",
       "      <td>2016-04-29T17:29:31Z</td>\n",
       "      <td>2016-04-29T00:00:00Z</td>\n",
       "      <td>8</td>\n",
       "      <td>PONTAL DE CAMBURI</td>\n",
       "      <td>0</td>\n",
       "      <td>0</td>\n",
       "      <td>0</td>\n",
       "      <td>0</td>\n",
       "      <td>0</td>\n",
       "      <td>0</td>\n",
       "      <td>No</td>\n",
       "    </tr>\n",
       "    <tr>\n",
       "      <th>4</th>\n",
       "      <td>8.841186e+12</td>\n",
       "      <td>5642494</td>\n",
       "      <td>F</td>\n",
       "      <td>2016-04-29T16:07:23Z</td>\n",
       "      <td>2016-04-29T00:00:00Z</td>\n",
       "      <td>56</td>\n",
       "      <td>JARDIM DA PENHA</td>\n",
       "      <td>0</td>\n",
       "      <td>1</td>\n",
       "      <td>1</td>\n",
       "      <td>0</td>\n",
       "      <td>0</td>\n",
       "      <td>0</td>\n",
       "      <td>No</td>\n",
       "    </tr>\n",
       "  </tbody>\n",
       "</table>\n",
       "</div>"
      ],
      "text/plain": [
       "     patient_id  appointment_id gender         scheduled_day  \\\n",
       "0  2.987250e+13         5642903      F  2016-04-29T18:38:08Z   \n",
       "1  5.589978e+14         5642503      M  2016-04-29T16:08:27Z   \n",
       "2  4.262962e+12         5642549      F  2016-04-29T16:19:04Z   \n",
       "3  8.679512e+11         5642828      F  2016-04-29T17:29:31Z   \n",
       "4  8.841186e+12         5642494      F  2016-04-29T16:07:23Z   \n",
       "\n",
       "        appointment_day  age      neighbourhood  scholarship  hypertension  \\\n",
       "0  2016-04-29T00:00:00Z   62    JARDIM DA PENHA            0             1   \n",
       "1  2016-04-29T00:00:00Z   56    JARDIM DA PENHA            0             0   \n",
       "2  2016-04-29T00:00:00Z   62      MATA DA PRAIA            0             0   \n",
       "3  2016-04-29T00:00:00Z    8  PONTAL DE CAMBURI            0             0   \n",
       "4  2016-04-29T00:00:00Z   56    JARDIM DA PENHA            0             1   \n",
       "\n",
       "   diabetes  alcoholism  handicap  sms_received no_show  \n",
       "0         0           0         0             0      No  \n",
       "1         0           0         0             0      No  \n",
       "2         0           0         0             0      No  \n",
       "3         0           0         0             0      No  \n",
       "4         1           0         0             0      No  "
      ]
     },
     "execution_count": 6,
     "metadata": {},
     "output_type": "execute_result"
    }
   ],
   "source": [
    "# Correcting and unifying column names\n",
    "df_noshow.columns = ['patient_id', 'appointment_id', 'gender', 'scheduled_day', \n",
    "              'appointment_day', 'age', 'neighbourhood', 'scholarship', 'hypertension',\n",
    "              'diabetes', 'alcoholism', 'handicap', 'sms_received', 'no_show']\n",
    "df_noshow.head()"
   ]
  },
  {
   "cell_type": "code",
   "execution_count": 7,
   "id": "caa88333",
   "metadata": {},
   "outputs": [
    {
     "data": {
      "text/plain": [
       "(71817, 14)"
      ]
     },
     "execution_count": 7,
     "metadata": {},
     "output_type": "execute_result"
    }
   ],
   "source": [
    "# Removing the duplicated ids and no show status\n",
    "df_noshow.drop_duplicates(['patient_id','no_show'], inplace=True)\n",
    "df_noshow.shape"
   ]
  },
  {
   "cell_type": "markdown",
   "id": "561302cd",
   "metadata": {},
   "source": [
    "*The new number of columns is 71817 and rows is 14*"
   ]
  },
  {
   "cell_type": "code",
   "execution_count": 8,
   "id": "b7593c0b",
   "metadata": {},
   "outputs": [],
   "source": [
    "# Eliminating the row with negative value for age\n",
    "df_noshow.drop(index=99832,inplace=True)"
   ]
  },
  {
   "cell_type": "code",
   "execution_count": 9,
   "id": "721405b2",
   "metadata": {},
   "outputs": [
    {
     "data": {
      "text/html": [
       "<div>\n",
       "<style scoped>\n",
       "    .dataframe tbody tr th:only-of-type {\n",
       "        vertical-align: middle;\n",
       "    }\n",
       "\n",
       "    .dataframe tbody tr th {\n",
       "        vertical-align: top;\n",
       "    }\n",
       "\n",
       "    .dataframe thead th {\n",
       "        text-align: right;\n",
       "    }\n",
       "</style>\n",
       "<table border=\"1\" class=\"dataframe\">\n",
       "  <thead>\n",
       "    <tr style=\"text-align: right;\">\n",
       "      <th></th>\n",
       "      <th>patient_id</th>\n",
       "      <th>appointment_id</th>\n",
       "      <th>age</th>\n",
       "      <th>scholarship</th>\n",
       "      <th>hypertension</th>\n",
       "      <th>diabetes</th>\n",
       "      <th>alcoholism</th>\n",
       "      <th>handicap</th>\n",
       "      <th>sms_received</th>\n",
       "    </tr>\n",
       "  </thead>\n",
       "  <tbody>\n",
       "    <tr>\n",
       "      <th>count</th>\n",
       "      <td>7.181600e+04</td>\n",
       "      <td>7.181600e+04</td>\n",
       "      <td>71816.000000</td>\n",
       "      <td>71816.000000</td>\n",
       "      <td>71816.000000</td>\n",
       "      <td>71816.000000</td>\n",
       "      <td>71816.000000</td>\n",
       "      <td>71816.000000</td>\n",
       "      <td>71816.000000</td>\n",
       "    </tr>\n",
       "    <tr>\n",
       "      <th>mean</th>\n",
       "      <td>1.466249e+14</td>\n",
       "      <td>5.666493e+06</td>\n",
       "      <td>36.527501</td>\n",
       "      <td>0.095536</td>\n",
       "      <td>0.195068</td>\n",
       "      <td>0.070959</td>\n",
       "      <td>0.025036</td>\n",
       "      <td>0.020135</td>\n",
       "      <td>0.335566</td>\n",
       "    </tr>\n",
       "    <tr>\n",
       "      <th>std</th>\n",
       "      <td>2.544917e+14</td>\n",
       "      <td>7.313083e+04</td>\n",
       "      <td>23.378262</td>\n",
       "      <td>0.293956</td>\n",
       "      <td>0.396256</td>\n",
       "      <td>0.256758</td>\n",
       "      <td>0.156236</td>\n",
       "      <td>0.155338</td>\n",
       "      <td>0.472191</td>\n",
       "    </tr>\n",
       "    <tr>\n",
       "      <th>min</th>\n",
       "      <td>3.921784e+04</td>\n",
       "      <td>5.030230e+06</td>\n",
       "      <td>0.000000</td>\n",
       "      <td>0.000000</td>\n",
       "      <td>0.000000</td>\n",
       "      <td>0.000000</td>\n",
       "      <td>0.000000</td>\n",
       "      <td>0.000000</td>\n",
       "      <td>0.000000</td>\n",
       "    </tr>\n",
       "    <tr>\n",
       "      <th>25%</th>\n",
       "      <td>4.175956e+12</td>\n",
       "      <td>5.631622e+06</td>\n",
       "      <td>17.000000</td>\n",
       "      <td>0.000000</td>\n",
       "      <td>0.000000</td>\n",
       "      <td>0.000000</td>\n",
       "      <td>0.000000</td>\n",
       "      <td>0.000000</td>\n",
       "      <td>0.000000</td>\n",
       "    </tr>\n",
       "    <tr>\n",
       "      <th>50%</th>\n",
       "      <td>3.189425e+13</td>\n",
       "      <td>5.672882e+06</td>\n",
       "      <td>36.000000</td>\n",
       "      <td>0.000000</td>\n",
       "      <td>0.000000</td>\n",
       "      <td>0.000000</td>\n",
       "      <td>0.000000</td>\n",
       "      <td>0.000000</td>\n",
       "      <td>0.000000</td>\n",
       "    </tr>\n",
       "    <tr>\n",
       "      <th>75%</th>\n",
       "      <td>9.457487e+13</td>\n",
       "      <td>5.716567e+06</td>\n",
       "      <td>55.000000</td>\n",
       "      <td>0.000000</td>\n",
       "      <td>0.000000</td>\n",
       "      <td>0.000000</td>\n",
       "      <td>0.000000</td>\n",
       "      <td>0.000000</td>\n",
       "      <td>1.000000</td>\n",
       "    </tr>\n",
       "    <tr>\n",
       "      <th>max</th>\n",
       "      <td>9.999816e+14</td>\n",
       "      <td>5.790484e+06</td>\n",
       "      <td>115.000000</td>\n",
       "      <td>1.000000</td>\n",
       "      <td>1.000000</td>\n",
       "      <td>1.000000</td>\n",
       "      <td>1.000000</td>\n",
       "      <td>4.000000</td>\n",
       "      <td>1.000000</td>\n",
       "    </tr>\n",
       "  </tbody>\n",
       "</table>\n",
       "</div>"
      ],
      "text/plain": [
       "         patient_id  appointment_id           age   scholarship  hypertension  \\\n",
       "count  7.181600e+04    7.181600e+04  71816.000000  71816.000000  71816.000000   \n",
       "mean   1.466249e+14    5.666493e+06     36.527501      0.095536      0.195068   \n",
       "std    2.544917e+14    7.313083e+04     23.378262      0.293956      0.396256   \n",
       "min    3.921784e+04    5.030230e+06      0.000000      0.000000      0.000000   \n",
       "25%    4.175956e+12    5.631622e+06     17.000000      0.000000      0.000000   \n",
       "50%    3.189425e+13    5.672882e+06     36.000000      0.000000      0.000000   \n",
       "75%    9.457487e+13    5.716567e+06     55.000000      0.000000      0.000000   \n",
       "max    9.999816e+14    5.790484e+06    115.000000      1.000000      1.000000   \n",
       "\n",
       "           diabetes    alcoholism      handicap  sms_received  \n",
       "count  71816.000000  71816.000000  71816.000000  71816.000000  \n",
       "mean       0.070959      0.025036      0.020135      0.335566  \n",
       "std        0.256758      0.156236      0.155338      0.472191  \n",
       "min        0.000000      0.000000      0.000000      0.000000  \n",
       "25%        0.000000      0.000000      0.000000      0.000000  \n",
       "50%        0.000000      0.000000      0.000000      0.000000  \n",
       "75%        0.000000      0.000000      0.000000      1.000000  \n",
       "max        1.000000      1.000000      4.000000      1.000000  "
      ]
     },
     "execution_count": 9,
     "metadata": {},
     "output_type": "execute_result"
    }
   ],
   "source": [
    "df_noshow.describe()"
   ]
  },
  {
   "cell_type": "markdown",
   "id": "6e715153",
   "metadata": {},
   "source": [
    "*The negtive value has been eliminated and the new minimu age is 0*"
   ]
  },
  {
   "cell_type": "code",
   "execution_count": 21,
   "id": "de5a5443",
   "metadata": {},
   "outputs": [
    {
     "data": {
      "text/plain": [
       "patient_id                     float64\n",
       "appointment_id                   int64\n",
       "gender                          object\n",
       "scheduled_day      datetime64[ns, UTC]\n",
       "appointment_day    datetime64[ns, UTC]\n",
       "age                              int64\n",
       "neighbourhood                   object\n",
       "scholarship                      int64\n",
       "hypertension                     int64\n",
       "diabetes                         int64\n",
       "alcoholism                       int64\n",
       "handicap                         int64\n",
       "sms_received                     int64\n",
       "no_show                         object\n",
       "dtype: object"
      ]
     },
     "execution_count": 21,
     "metadata": {},
     "output_type": "execute_result"
    }
   ],
   "source": [
    "#fixing the schedule and appointment day data type\n",
    "df_noshow['scheduled_day'] = pd.to_datetime(df_noshow['scheduled_day'])\n",
    "df_noshow['appointment_day'] = pd.to_datetime(df_noshow['appointment_day'])\n",
    "df_noshow.dtypes"
   ]
  },
  {
   "cell_type": "markdown",
   "id": "e9b5e09b",
   "metadata": {},
   "source": [
    "*The new data type for scheduled_day  and appointment_day is datetime*"
   ]
  },
  {
   "cell_type": "code",
   "execution_count": 10,
   "id": "8e5f0030",
   "metadata": {},
   "outputs": [
    {
     "data": {
      "text/plain": [
       "patient_id         54153\n",
       "appointment_id     54153\n",
       "gender             54153\n",
       "scheduled_day      54153\n",
       "appointment_day    54153\n",
       "age                54153\n",
       "neighbourhood      54153\n",
       "scholarship        54153\n",
       "hypertension       54153\n",
       "diabetes           54153\n",
       "alcoholism         54153\n",
       "handicap           54153\n",
       "sms_received       54153\n",
       "no_show            54153\n",
       "dtype: int64"
      ]
     },
     "execution_count": 10,
     "metadata": {},
     "output_type": "execute_result"
    }
   ],
   "source": [
    "# No of patients that Showed up \n",
    "showed=df_noshow['no_show']==\"No\"\n",
    "df_noshow[showed].count()"
   ]
  },
  {
   "cell_type": "markdown",
   "id": "db78be07",
   "metadata": {},
   "source": [
    "*There are 54153 patients who showed up for their appointments*"
   ]
  },
  {
   "cell_type": "code",
   "execution_count": 11,
   "id": "ea233862",
   "metadata": {},
   "outputs": [
    {
     "data": {
      "text/plain": [
       "patient_id         17663\n",
       "appointment_id     17663\n",
       "gender             17663\n",
       "scheduled_day      17663\n",
       "appointment_day    17663\n",
       "age                17663\n",
       "neighbourhood      17663\n",
       "scholarship        17663\n",
       "hypertension       17663\n",
       "diabetes           17663\n",
       "alcoholism         17663\n",
       "handicap           17663\n",
       "sms_received       17663\n",
       "no_show            17663\n",
       "dtype: int64"
      ]
     },
     "execution_count": 11,
     "metadata": {},
     "output_type": "execute_result"
    }
   ],
   "source": [
    "# Did not show up numbers\n",
    "noshow=df_noshow['no_show']==\"Yes\"\n",
    "df_noshow[noshow].count()"
   ]
  },
  {
   "cell_type": "markdown",
   "id": "f4688d61",
   "metadata": {},
   "source": [
    "*There are 17663 patients who did not show up for their appointments*"
   ]
  },
  {
   "cell_type": "markdown",
   "id": "9da95b59",
   "metadata": {},
   "source": [
    "<a id='eda'></a>\n",
    "## Exploratory Data Analysis\n",
    "\n",
    "\n",
    "\n",
    "\n",
    "### General Observation"
   ]
  },
  {
   "cell_type": "code",
   "execution_count": 17,
   "id": "52f19a44",
   "metadata": {},
   "outputs": [
    {
     "data": {
      "image/png": "[encoded data removed]",
      "text/plain": [
       "<Figure size 1152x1152 with 9 Axes>"
      ]
     },
     "metadata": {
      "needs_background": "light"
     },
     "output_type": "display_data"
    }
   ],
   "source": [
    "df_noshow.hist(figsize=(16,16));"
   ]
  },
  {
   "cell_type": "markdown",
   "id": "d3cce305",
   "metadata": {},
   "source": [
    "> Observations from the charts\n",
    "> * age: Patients are between the age of 0 to 100 and most of them are young people evenly distributed between age 0 to 50 and drastically decrease from age of 60 years.\n",
    "> * alcoholism: Few patients are  alcoholics.\n",
    "> * diabetes: Few patients are diabetes but are more than alcoholics.\n",
    "> * handicap: There are for handicap categories with most of the people not being handicapted.\n",
    "> * hypertension: Few patients also have hypertension ."
   ]
  },
  {
   "cell_type": "markdown",
   "id": "34ba45b1",
   "metadata": {},
   "source": [
    "### Research Question 1: The comparison of attendances vs the age of the patient"
   ]
  },
  {
   "cell_type": "code",
   "execution_count": 39,
   "id": "5c7b32ee",
   "metadata": {},
   "outputs": [
    {
     "data": {
      "image/png": "[encoded data removed]",
      "text/plain": [
       "<Figure size 720x576 with 1 Axes>"
      ]
     },
     "metadata": {
      "needs_background": "light"
     },
     "output_type": "display_data"
    }
   ],
   "source": [
    "def appointments(df,col_name,showed,noshow):\n",
    "   plt.figure(figsize=(10,8)) \n",
    "   df_noshow.age[showed].hist(alpha=0.8, bins=20,label='Showed');\n",
    "   df_noshow.age[noshow].hist(alpha=0.8, bins=20, label='No-Show');\n",
    "   plt.title(\"Comparison Attendance vs age\")\n",
    "   plt.xlabel(\"Age\")\n",
    "   plt.ylabel(\"No of Patients\");\n",
    "   \n",
    "    \n",
    "appointments(df_noshow,'age',showed,noshow)"
   ]
  },
  {
   "cell_type": "markdown",
   "id": "d44955ca",
   "metadata": {},
   "source": [
    "*Children and young people between the age shows up to their appointments are more than older people between 40-60*\n",
    "\n",
    "*The rate of no-shows between the age of 1-65 years old, seems to be higher than 30%*"
   ]
  },
  {
   "cell_type": "markdown",
   "id": "cad4be96",
   "metadata": {},
   "source": [
    "### Research Question 2 : What is the percentage of patients who did not show up for appointments"
   ]
  },
  {
   "cell_type": "code",
   "execution_count": 12,
   "id": "60b123bb",
   "metadata": {},
   "outputs": [
    {
     "data": {
      "image/png": "[encoded data removed]",
      "text/plain": [
       "<Figure size 432x288 with 1 Axes>"
      ]
     },
     "metadata": {
      "needs_background": "light"
     },
     "output_type": "display_data"
    },
    {
     "name": "stdout",
     "output_type": "stream",
     "text": [
      "25% of appointments were missed.\n"
     ]
    }
   ],
   "source": [
    "def noShow():\n",
    "    all_appointments=df_noshow.shape[0]\n",
    "    missed = len(df_noshow.query('no_show == \"Yes\"'))\n",
    "    noshow_ratio = int(round(missed/all_appointments*100))\n",
    "\n",
    "    ax = sns.countplot(x=df_noshow.no_show, data=df_noshow)\n",
    "    ax.set_title(\"Appointment attendance\")\n",
    "    plt.show();\n",
    "\n",
    "    print('{}% of the appointments were missed by patients.'.format(noshow_ratio))\n",
    "\n",
    "noShow()"
   ]
  },
  {
   "cell_type": "markdown",
   "id": "c88be724",
   "metadata": {},
   "source": [
    "### Research Question 3: What is the gender distribution of the no show appointments attendance"
   ]
  },
  {
   "cell_type": "code",
   "execution_count": 17,
   "id": "9a3e590d",
   "metadata": {},
   "outputs": [
    {
     "data": {
      "image/png": "[encoded data removed]",
      "text/plain": [
       "<Figure size 432x288 with 1 Axes>"
      ]
     },
     "metadata": {
      "needs_background": "light"
     },
     "output_type": "display_data"
    },
    {
     "name": "stdout",
     "output_type": "stream",
     "text": [
      "All appointments by females were 46466 and all appointments by male were 25350\n",
      "Missed appointments by females were 11506 and missed appointments by male were 6157\n",
      "The ratio of missed appointments by females is 25% and the ratio missed by male is 24%\n"
     ]
    }
   ],
   "source": [
    "def appointments():\n",
    "        appointments_by_female = len(df_noshow.loc[df_noshow['gender'] == \"F\"])\n",
    "        appointments_by_male= len(df_noshow.loc[df_noshow['gender'] == \"M\"])\n",
    "\n",
    "        missed_by_female = len(df_noshow.query('no_show == \"Yes\" and gender == \"F\"'))\n",
    "        missed_by_male = len(df_noshow.loc[(df_noshow['gender'] == \"M\") & (df_noshow['no_show'] == \"Yes\")])\n",
    "\n",
    "        missed_female_ratio = int(round(missed_by_female/appointments_by_female*100))\n",
    "        missed_male_ratio = int(round(missed_by_male/appointments_by_male*100))\n",
    "\n",
    "        ax = sns.countplot(x=df_noshow.gender, hue=df_noshow.no_show, data=df_noshow)\n",
    "        ax.set_title(\"Attendance for Females and Males\")\n",
    "        x_labels=['Female', 'Male']\n",
    "        plt.show();\n",
    "\n",
    "        print('All appointments by females were {} and all appointments by male were {}'.format(appointments_by_female, appointments_by_male))\n",
    "        print('Missed appointments by females were {} and missed appointments by male were {}'.format(missed_by_female,missed_by_male))\n",
    "        print('The ratio of missed appointments by females is {}% and the ratio missed by male is {}%'.format(missed_female_ratio,missed_male_ratio))\n",
    "       \n",
    "appointments()    \n",
    "    "
   ]
  },
  {
   "cell_type": "markdown",
   "id": "1509667e",
   "metadata": {},
   "source": [
    "<a id='conclusions'></a>\n",
    "## Conclusions\n",
    "<ul>\n",
    "<li>Insight 1: The patients are 37 years on average, the youngest at 0 and oldest at 155.\n",
    "    Children and young people shows up to their appointments are more than older people between 40-60.\n",
    "    The rate of no-shows between the age of 1-65 years old, the rate of no-shows seems to be higher than 30%. </li>\n",
    "<li>Insight 2: 25% of the appointments were missed by the patients</li>\n",
    "<li>Insight 3: </li>\n",
    "    \n",
    " * For Female patients: The total number of appointments is 46466, the missed appointments 11506. The percentage of missed   appointments is 25%.\n",
    " * For Male patients:The total number of appointments is 25350, the missed appointments 6157. The percentage of missed   appointments is 24%.\n",
    "    \n",
    "* Hence, more female than male patients missed their appointments\n",
    "    \n",
    "</ul>"
   ]
  },
  {
   "cell_type": "markdown",
   "id": "59974c82",
   "metadata": {},
   "source": [
    "### Limitations\n",
    "One of the limitation in this data set is lack of patient's background data, like their average income and also the cost of the appointments which may be the main factor to no shows in appointments. "
   ]
  }
 ],
 "metadata": {
  "kernelspec": {
   "display_name": "Python 3 (ipykernel)",
   "language": "python",
   "name": "python3"
  },
  "language_info": {
   "codemirror_mode": {
    "name": "ipython",
    "version": 3
   },
   "file_extension": ".py",
   "mimetype": "text/x-python",
   "name": "python",
   "nbconvert_exporter": "python",
   "pygments_lexer": "ipython3",
   "version": "3.9.12"
  }
 },
 "nbformat": 4,
 "nbformat_minor": 5
}
